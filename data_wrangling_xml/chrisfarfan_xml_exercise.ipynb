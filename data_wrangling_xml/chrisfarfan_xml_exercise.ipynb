{
 "cells": [
  {
   "cell_type": "markdown",
   "metadata": {},
   "source": [
    "****\n",
    "## XML exercise\n",
    "\n",
    "Using data in 'data/mondial_database.xml', the examples above, and refering to https://docs.python.org/2.7/library/xml.etree.elementtree.html, find\n",
    "\n",
    "1. 10 countries with the lowest infant mortality rates\n",
    "2. 10 cities with the largest population\n",
    "3. 10 ethnic groups with the largest overall populations (sum of best/latest estimates over all countries)\n",
    "4. name and country of a) longest river, b) largest lake and c) airport at highest elevation"
   ]
  },
  {
   "cell_type": "code",
   "execution_count": 218,
   "metadata": {
    "collapsed": true
   },
   "outputs": [],
   "source": [
    "document = ET.parse( './data/mondial_database.xml' )\n",
    "import pandas as pd"
   ]
  },
  {
   "cell_type": "code",
   "execution_count": 253,
   "metadata": {
    "collapsed": false
   },
   "outputs": [],
   "source": [
    "root = document.getroot()\n"
   ]
  },
  {
   "cell_type": "markdown",
   "metadata": {},
   "source": [
    "Not all the entries have an infant mortality rate element. So we need to make sure loop loops for the element named 'infant_mortality'. "
   ]
  },
  {
   "cell_type": "code",
   "execution_count": 252,
   "metadata": {
    "collapsed": false
   },
   "outputs": [],
   "source": [
    "#get infant mortality of each country, add to heap if under capacity \n",
    "#otherwise check if new value is greater than smallest.\n",
    "inf_mort = dict()\n",
    "for element in document.iterfind('country'):\n",
    "    for subelement in element.iterfind('infant_mortality'):\n",
    "        inf_mort[element.find('name').text] = float(subelement.text)       "
   ]
  },
  {
   "cell_type": "code",
   "execution_count": 343,
   "metadata": {
    "collapsed": false
   },
   "outputs": [
    {
     "data": {
      "text/html": [
       "<div>\n",
       "<table border=\"1\" class=\"dataframe\">\n",
       "  <thead>\n",
       "    <tr style=\"text-align: right;\">\n",
       "      <th></th>\n",
       "      <th>infant_mortality</th>\n",
       "    </tr>\n",
       "    <tr>\n",
       "      <th>country</th>\n",
       "      <th></th>\n",
       "    </tr>\n",
       "  </thead>\n",
       "  <tbody>\n",
       "    <tr>\n",
       "      <th>Monaco</th>\n",
       "      <td>1.81</td>\n",
       "    </tr>\n",
       "    <tr>\n",
       "      <th>Japan</th>\n",
       "      <td>2.13</td>\n",
       "    </tr>\n",
       "    <tr>\n",
       "      <th>Norway</th>\n",
       "      <td>2.48</td>\n",
       "    </tr>\n",
       "    <tr>\n",
       "      <th>Bermuda</th>\n",
       "      <td>2.48</td>\n",
       "    </tr>\n",
       "    <tr>\n",
       "      <th>Singapore</th>\n",
       "      <td>2.53</td>\n",
       "    </tr>\n",
       "    <tr>\n",
       "      <th>Sweden</th>\n",
       "      <td>2.60</td>\n",
       "    </tr>\n",
       "    <tr>\n",
       "      <th>Czech Republic</th>\n",
       "      <td>2.63</td>\n",
       "    </tr>\n",
       "    <tr>\n",
       "      <th>Hong Kong</th>\n",
       "      <td>2.73</td>\n",
       "    </tr>\n",
       "    <tr>\n",
       "      <th>Macao</th>\n",
       "      <td>3.13</td>\n",
       "    </tr>\n",
       "    <tr>\n",
       "      <th>Iceland</th>\n",
       "      <td>3.15</td>\n",
       "    </tr>\n",
       "  </tbody>\n",
       "</table>\n",
       "</div>"
      ],
      "text/plain": [
       "                infant_mortality\n",
       "country                         \n",
       "Monaco                      1.81\n",
       "Japan                       2.13\n",
       "Norway                      2.48\n",
       "Bermuda                     2.48\n",
       "Singapore                   2.53\n",
       "Sweden                      2.60\n",
       "Czech Republic              2.63\n",
       "Hong Kong                   2.73\n",
       "Macao                       3.13\n",
       "Iceland                     3.15"
      ]
     },
     "execution_count": 343,
     "metadata": {},
     "output_type": "execute_result"
    }
   ],
   "source": [
    "infmort_df = pd.DataFrame.from_dict(inf_mort, orient ='index')\n",
    "infmort_df.columns = ['infant_mortality']\n",
    "infmort_df.index.names = ['country']\n",
    "infmort_df.sort_values(by = 'infant_mortality', ascending = True).head(10)"
   ]
  },
  {
   "cell_type": "markdown",
   "metadata": {},
   "source": [
    "Thus we have the countries with the ten lowest reported infant mortality rate element values (in order). \n",
    "To get the top ten populations by city, we have to make sure we get all cities, not just the elements directly under a country, and to keep track of the various population subelements, which all have the same name."
   ]
  },
  {
   "cell_type": "code",
   "execution_count": 342,
   "metadata": {
    "collapsed": false
   },
   "outputs": [
    {
     "data": {
      "text/html": [
       "<div>\n",
       "<table border=\"1\" class=\"dataframe\">\n",
       "  <thead>\n",
       "    <tr style=\"text-align: right;\">\n",
       "      <th></th>\n",
       "      <th>population</th>\n",
       "    </tr>\n",
       "    <tr>\n",
       "      <th>city</th>\n",
       "      <th></th>\n",
       "    </tr>\n",
       "  </thead>\n",
       "  <tbody>\n",
       "    <tr>\n",
       "      <th>Shanghai</th>\n",
       "      <td>22315474</td>\n",
       "    </tr>\n",
       "    <tr>\n",
       "      <th>Istanbul</th>\n",
       "      <td>13710512</td>\n",
       "    </tr>\n",
       "    <tr>\n",
       "      <th>Mumbai</th>\n",
       "      <td>12442373</td>\n",
       "    </tr>\n",
       "    <tr>\n",
       "      <th>Moskva</th>\n",
       "      <td>11979529</td>\n",
       "    </tr>\n",
       "    <tr>\n",
       "      <th>Beijing</th>\n",
       "      <td>11716620</td>\n",
       "    </tr>\n",
       "    <tr>\n",
       "      <th>São Paulo</th>\n",
       "      <td>11152344</td>\n",
       "    </tr>\n",
       "    <tr>\n",
       "      <th>Tianjin</th>\n",
       "      <td>11090314</td>\n",
       "    </tr>\n",
       "    <tr>\n",
       "      <th>Guangzhou</th>\n",
       "      <td>11071424</td>\n",
       "    </tr>\n",
       "    <tr>\n",
       "      <th>Delhi</th>\n",
       "      <td>11034555</td>\n",
       "    </tr>\n",
       "    <tr>\n",
       "      <th>Shenzhen</th>\n",
       "      <td>10358381</td>\n",
       "    </tr>\n",
       "  </tbody>\n",
       "</table>\n",
       "</div>"
      ],
      "text/plain": [
       "           population\n",
       "city                 \n",
       "Shanghai     22315474\n",
       "Istanbul     13710512\n",
       "Mumbai       12442373\n",
       "Moskva       11979529\n",
       "Beijing      11716620\n",
       "São Paulo    11152344\n",
       "Tianjin      11090314\n",
       "Guangzhou    11071424\n",
       "Delhi        11034555\n",
       "Shenzhen     10358381"
      ]
     },
     "execution_count": 342,
     "metadata": {},
     "output_type": "execute_result"
    }
   ],
   "source": [
    "current_pop = 0\n",
    "current_pop_year = 0\n",
    "citypop = dict()\n",
    "\n",
    "for country in document.iterfind('country'):\n",
    "    for city in country.getiterator('city'):\n",
    "        \n",
    "        for subelement in city.iterfind('population'):\n",
    "            #compare attributes of identically named subelements. Use this to hold onto the latest pop estimate. \n",
    "            if int(subelement.attrib['year']) > current_pop_year:\n",
    "                current_pop = int(subelement.text)\n",
    "                current_pop_year = int(subelement.attrib['year'])\n",
    "                \n",
    "        citypop[city.findtext('name')] = current_pop\n",
    "        current_pop = 0\n",
    "        current_pop_year = 0\n",
    "  \n",
    "    \n",
    "citypop_df = pd.DataFrame.from_dict(citypop, orient ='index')\n",
    "citypop_df.columns = ['population']\n",
    "citypop_df.index.names = ['city']\n",
    "citypop_df.sort_values(by = 'population', ascending = False).head(10)"
   ]
  },
  {
   "cell_type": "markdown",
   "metadata": {},
   "source": [
    "Top ten cities in the world by population as reported by the database."
   ]
  },
  {
   "cell_type": "code",
   "execution_count": 341,
   "metadata": {
    "collapsed": false
   },
   "outputs": [
    {
     "data": {
      "text/html": [
       "<div>\n",
       "<table border=\"1\" class=\"dataframe\">\n",
       "  <thead>\n",
       "    <tr style=\"text-align: right;\">\n",
       "      <th></th>\n",
       "      <th>population</th>\n",
       "    </tr>\n",
       "    <tr>\n",
       "      <th>ethnic_group</th>\n",
       "      <th></th>\n",
       "    </tr>\n",
       "  </thead>\n",
       "  <tbody>\n",
       "    <tr>\n",
       "      <th>Han Chinese</th>\n",
       "      <td>1.245059e+09</td>\n",
       "    </tr>\n",
       "    <tr>\n",
       "      <th>Indo-Aryan</th>\n",
       "      <td>8.718156e+08</td>\n",
       "    </tr>\n",
       "    <tr>\n",
       "      <th>European</th>\n",
       "      <td>4.948722e+08</td>\n",
       "    </tr>\n",
       "    <tr>\n",
       "      <th>African</th>\n",
       "      <td>3.183251e+08</td>\n",
       "    </tr>\n",
       "    <tr>\n",
       "      <th>Dravidian</th>\n",
       "      <td>3.027137e+08</td>\n",
       "    </tr>\n",
       "    <tr>\n",
       "      <th>Mestizo</th>\n",
       "      <td>1.577344e+08</td>\n",
       "    </tr>\n",
       "    <tr>\n",
       "      <th>Bengali</th>\n",
       "      <td>1.467769e+08</td>\n",
       "    </tr>\n",
       "    <tr>\n",
       "      <th>Russian</th>\n",
       "      <td>1.304840e+08</td>\n",
       "    </tr>\n",
       "    <tr>\n",
       "      <th>Japanese</th>\n",
       "      <td>1.265342e+08</td>\n",
       "    </tr>\n",
       "    <tr>\n",
       "      <th>Malay</th>\n",
       "      <td>1.219936e+08</td>\n",
       "    </tr>\n",
       "  </tbody>\n",
       "</table>\n",
       "</div>"
      ],
      "text/plain": [
       "                population\n",
       "ethnic_group              \n",
       "Han Chinese   1.245059e+09\n",
       "Indo-Aryan    8.718156e+08\n",
       "European      4.948722e+08\n",
       "African       3.183251e+08\n",
       "Dravidian     3.027137e+08\n",
       "Mestizo       1.577344e+08\n",
       "Bengali       1.467769e+08\n",
       "Russian       1.304840e+08\n",
       "Japanese      1.265342e+08\n",
       "Malay         1.219936e+08"
      ]
     },
     "execution_count": 341,
     "metadata": {},
     "output_type": "execute_result"
    }
   ],
   "source": [
    "ethn = dict()\n",
    "current_pop = 0\n",
    "current_pop_year = 0\n",
    "for country in document.iterfind('country'):\n",
    "    for population in country.getiterator('population'):\n",
    "        #compare attributes of identically named subelements. Use this to hold onto the latest pop estimate.\n",
    "        #Probably faster way to do this if sure of tree structure (i.e. last element is always latest) \n",
    "        if int(population.attrib['year']) > current_pop_year:\n",
    "                current_pop = int(population.text)\n",
    "                current_pop_year = int(population.attrib['year'])\n",
    "    for ethn_gp in country.iterfind('ethnicgroup'):\n",
    "        if ethn_gp.text in ethn:\n",
    "            ethn[ethn_gp.text] += current_pop*float(ethn_gp.attrib['percentage'])/100\n",
    "        else:\n",
    "            ethn[ethn_gp.text] = current_pop*float(ethn_gp.attrib['percentage'])/100\n",
    "    current_pop = 0\n",
    "    current_pop_year = 0\n",
    "\n",
    "ethnic_df = pd.DataFrame.from_dict(ethn, orient ='index')\n",
    "ethnic_df.columns = ['population']\n",
    "ethnic_df.index.names = ['ethnic_group']\n",
    "ethnic_df.groupby(ethnic_df.index).sum().sort_values(by = 'population', ascending = False).head(10)"
   ]
  },
  {
   "cell_type": "markdown",
   "metadata": {},
   "source": [
    "Largest ethnic groups by population, based on the latest estimates from each country. Finally, we look for the longest river, largest lake, and highest airport. We can take advantage of the intelligent attributes included in the database already. Playing around with the river elements, we see that while the long rivers may have multiple 'located' subelements, for each country, the river element itself has a country attribute which lists the country codes all together. This simplifies the problem. We assume there are no ties... simply because it's a bit quicker and because the coincidence seems a bit ridiculous. "
   ]
  },
  {
   "cell_type": "code",
   "execution_count": 382,
   "metadata": {
    "collapsed": false
   },
   "outputs": [
    {
     "data": {
      "text/html": [
       "<div>\n",
       "<table border=\"1\" class=\"dataframe\">\n",
       "  <thead>\n",
       "    <tr style=\"text-align: right;\">\n",
       "      <th></th>\n",
       "      <th>Largest Lake</th>\n",
       "      <th>Longest River</th>\n",
       "      <th>Highest Airport</th>\n",
       "    </tr>\n",
       "  </thead>\n",
       "  <tbody>\n",
       "    <tr>\n",
       "      <th>Name</th>\n",
       "      <td>Caspian Sea</td>\n",
       "      <td>Amazonas</td>\n",
       "      <td>El Alto Intl</td>\n",
       "    </tr>\n",
       "    <tr>\n",
       "      <th>Location (Country Code)</th>\n",
       "      <td>R AZ KAZ IR TM</td>\n",
       "      <td>CO BR PE</td>\n",
       "      <td>BOL</td>\n",
       "    </tr>\n",
       "    <tr>\n",
       "      <th>Metric Value</th>\n",
       "      <td>386400</td>\n",
       "      <td>6448</td>\n",
       "      <td>4063</td>\n",
       "    </tr>\n",
       "  </tbody>\n",
       "</table>\n",
       "</div>"
      ],
      "text/plain": [
       "                           Largest Lake Longest River Highest Airport\n",
       "Name                        Caspian Sea      Amazonas    El Alto Intl\n",
       "Location (Country Code)  R AZ KAZ IR TM      CO BR PE             BOL\n",
       "Metric Value                     386400          6448            4063"
      ]
     },
     "execution_count": 382,
     "metadata": {},
     "output_type": "execute_result"
    }
   ],
   "source": [
    "river_ctry=None\n",
    "river_name= None\n",
    "lake_ctry= None\n",
    "lake_name= None\n",
    "airport_ctry= None\n",
    "airport_name = None\n",
    "river_length= 0\n",
    "lake_area = 0\n",
    "airport_elv = 0\n",
    "\n",
    "for river in document.iterfind('river'):\n",
    "    for length in river.iterfind('length'):\n",
    "        if river_length < float(length.text):\n",
    "            river_length=float(length.text)\n",
    "            river_ctry= river.attrib['country']\n",
    "            river_name = river.findtext('name')\n",
    "\n",
    "\n",
    "for lake in document.iterfind('lake'):\n",
    "    for area in lake.iterfind('area'):\n",
    "        if lake_area < float(area.text):\n",
    "            lake_area=float(area.text)\n",
    "            lake_ctry= lake.attrib['country']\n",
    "            lake_name = lake.findtext('name')\n",
    "\n",
    "for airport in document.iterfind('airport'):\n",
    "    for elv in airport.iterfind('elevation'):\n",
    "        #apprarently there is an airport in the database with an elevation tag an no entry. \n",
    "        #Probably should have been doing this previously\n",
    "        if (elv.text is not None) and (airport_elv < float(elv.text)):\n",
    "            airport_elv=float(elv.text)\n",
    "            airport_ctry= airport.attrib['country']\n",
    "            airport_name = airport.findtext('name') \n",
    "            \n",
    "data = [[lake_name,river_name,airport_name],[lake_ctry,river_ctry,airport_ctry],[lake_area,river_length,airport_elv]]\n",
    "df = pd.DataFrame(data, columns = ['Largest Lake','Longest River','Highest Airport'],index=['Name','Location (Country Code)','Metric Value'])\n",
    "df"
   ]
  },
  {
   "cell_type": "code",
   "execution_count": null,
   "metadata": {
    "collapsed": true
   },
   "outputs": [],
   "source": []
  }
 ],
 "metadata": {
  "kernelspec": {
   "display_name": "Python 3",
   "language": "python",
   "name": "python3"
  },
  "language_info": {
   "codemirror_mode": {
    "name": "ipython",
    "version": 3
   },
   "file_extension": ".py",
   "mimetype": "text/x-python",
   "name": "python",
   "nbconvert_exporter": "python",
   "pygments_lexer": "ipython3",
   "version": "3.5.1"
  }
 },
 "nbformat": 4,
 "nbformat_minor": 0
}
